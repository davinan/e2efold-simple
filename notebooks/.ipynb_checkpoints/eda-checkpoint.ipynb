{
 "cells": [
  {
   "cell_type": "code",
   "execution_count": 1,
   "metadata": {},
   "outputs": [],
   "source": [
    "import torch\n",
    "import os\n",
    "import pickle\n",
    "import numpy as np"
   ]
  },
  {
   "cell_type": "code",
   "execution_count": 2,
   "metadata": {},
   "outputs": [
    {
     "name": "stdout",
     "output_type": "stream",
     "text": [
      "ls: data/rnastralign_all_600: No such file or directory\n"
     ]
    },
    {
     "data": {
      "text/plain": [
       "'notebooks'"
      ]
     },
     "execution_count": 2,
     "metadata": {},
     "output_type": "execute_result"
    }
   ],
   "source": [
    "!ls data/rnastralign_all_600\n",
    "os.path.basename(os.getcwd())"
   ]
  },
  {
   "cell_type": "code",
   "execution_count": 3,
   "metadata": {},
   "outputs": [],
   "source": [
    "cur_dir = os.path.basename(os.getcwd())\n",
    "base_path = \"data/rnastralign_all_600/\" if cur_dir == \"e2efold-simple\" else \"../data/rnastralign_all_600/\"\n",
    "val_path = os.path.join(base_path, \"val.pickle\")\n",
    "test_path = os.path.join(base_path, \"test.pickle\")\n",
    "train_path = os.path.join(base_path, \"train.pickle\")"
   ]
  },
  {
   "cell_type": "code",
   "execution_count": 4,
   "metadata": {},
   "outputs": [],
   "source": [
    "import collections\n",
    "RNA_SS_data = collections.namedtuple('RNA_SS_data', 'seq ss_label length name pairs')\n",
    "with open(train_path, \"rb\") as file:\n",
    "    train_data = pickle.load(file)"
   ]
  },
  {
   "cell_type": "markdown",
   "metadata": {},
   "source": [
    "### Understanding the data\n",
    "data_generator.py -> https://github.com/ml4bio/e2efold/blob/master/e2efold/data_generator.py"
   ]
  },
  {
   "cell_type": "code",
   "execution_count": 5,
   "metadata": {},
   "outputs": [
    {
     "name": "stdout",
     "output_type": "stream",
     "text": [
      "tRNA_database\n",
      "5S_rRNA_database\n",
      "tRNA_database\n",
      "tRNA_database\n",
      "5S_rRNA_database\n",
      "5S_rRNA_database\n",
      "5S_rRNA_database\n",
      "5S_rRNA_database\n",
      "5S_rRNA_database\n",
      "16S_rRNA_database\n",
      "d_type: ['tRNA_database' '5S_rRNA_database' 'tRNA_database' ... 'tRNA_database'\n",
      " 'SRP_database' 'tRNA_database']\n",
      "max_num: 9133\n"
     ]
    },
    {
     "name": "stderr",
     "output_type": "stream",
     "text": [
      "<ipython-input-5-d31db33a8fae>:8: VisibleDeprecationWarning: Creating an ndarray from ragged nested sequences (which is a list-or-tuple of lists-or-tuples-or ndarrays with different lengths or shapes) is deprecated. If you meant to do this, you must specify 'dtype=object' when creating the ndarray\n",
      "  data = np.array(train_data)\n"
     ]
    }
   ],
   "source": [
    "from collections import Counter\n",
    "\n",
    "for i in range(10):\n",
    "    print(train_data[i].name.split('/')[2])\n",
    "# from the original github:\n",
    "name = [instance.name for instance in train_data]\n",
    "d_type = np.array(list(map(lambda x: x.split('/')[2], name)))\n",
    "data = np.array(train_data)\n",
    "max_num = max(Counter(list(d_type)).values())\n",
    "print(f\"d_type: {d_type}\\nmax_num: {max_num}\")"
   ]
  },
  {
   "cell_type": "code",
   "execution_count": 6,
   "metadata": {},
   "outputs": [
    {
     "name": "stdout",
     "output_type": "stream",
     "text": [
      "16S_rRNA_database\n",
      "5S_rRNA_database\n",
      "tRNA_database\n",
      "tmRNA_database\n"
     ]
    }
   ],
   "source": [
    "count = 1\n",
    "data_list = []\n",
    "# separating each type of data into different np.arrays in the data_list\n",
    "for i, t in enumerate(sorted(list(np.unique(d_type)))):\n",
    "    if i in [0, 1, 5, 7]:\n",
    "        print(t)\n",
    "    index = np.where(d_type==t)[0]\n",
    "    data_list.append(data[index])"
   ]
  },
  {
   "cell_type": "code",
   "execution_count": 7,
   "metadata": {},
   "outputs": [],
   "source": [
    "data = train_data\n",
    "data_x = np.array([instance[0] for instance in data])\n",
    "data_y = np.array([instance[1] for instance in data])"
   ]
  },
  {
   "cell_type": "code",
   "execution_count": 8,
   "metadata": {},
   "outputs": [
    {
     "data": {
      "text/plain": [
       "(20862, 600, 4)"
      ]
     },
     "execution_count": 8,
     "metadata": {},
     "output_type": "execute_result"
    }
   ],
   "source": [
    "# data_x contains each sequence of nucleotides in the training samples\n",
    "data_x.shape"
   ]
  },
  {
   "cell_type": "code",
   "execution_count": 9,
   "metadata": {},
   "outputs": [
    {
     "data": {
      "text/plain": [
       "(20862, 600, 3)"
      ]
     },
     "execution_count": 9,
     "metadata": {},
     "output_type": "execute_result"
    }
   ],
   "source": [
    "data_y.shape"
   ]
  },
  {
   "cell_type": "code",
   "execution_count": 10,
   "metadata": {},
   "outputs": [],
   "source": [
    "pairs = np.array([instance[4] for instance in data], dtype=object)"
   ]
  },
  {
   "cell_type": "code",
   "execution_count": 11,
   "metadata": {},
   "outputs": [
    {
     "data": {
      "text/plain": [
       "[[0, 72],\n",
       " [1, 71],\n",
       " [2, 70],\n",
       " [3, 69],\n",
       " [4, 68],\n",
       " [5, 67],\n",
       " [6, 66],\n",
       " [9, 25],\n",
       " [10, 24],\n",
       " [11, 23],\n",
       " [12, 22],\n",
       " [22, 12],\n",
       " [23, 11],\n",
       " [24, 10],\n",
       " [25, 9],\n",
       " [27, 43],\n",
       " [28, 42],\n",
       " [29, 41],\n",
       " [30, 40],\n",
       " [31, 39],\n",
       " [39, 31],\n",
       " [40, 30],\n",
       " [41, 29],\n",
       " [42, 28],\n",
       " [43, 27],\n",
       " [49, 65],\n",
       " [50, 64],\n",
       " [51, 63],\n",
       " [52, 62],\n",
       " [53, 61],\n",
       " [61, 53],\n",
       " [62, 52],\n",
       " [63, 51],\n",
       " [64, 50],\n",
       " [65, 49],\n",
       " [66, 6],\n",
       " [67, 5],\n",
       " [68, 4],\n",
       " [69, 3],\n",
       " [70, 2],\n",
       " [71, 1],\n",
       " [72, 0]]"
      ]
     },
     "execution_count": 11,
     "metadata": {},
     "output_type": "execute_result"
    }
   ],
   "source": [
    "pairs[0]"
   ]
  },
  {
   "cell_type": "code",
   "execution_count": 12,
   "metadata": {},
   "outputs": [
    {
     "data": {
      "text/plain": [
       "array([ 74, 115,  73, ...,  77, 271,  78])"
      ]
     },
     "execution_count": 12,
     "metadata": {},
     "output_type": "execute_result"
    }
   ],
   "source": [
    "seq_length = np.array([instance[2] for instance in data])\n",
    "seq_length"
   ]
  },
  {
   "cell_type": "code",
   "execution_count": 13,
   "metadata": {},
   "outputs": [],
   "source": [
    "char_dict = {\n",
    "    0: 'A',\n",
    "    1: 'U',\n",
    "    2: 'C',\n",
    "    3: 'G',\n",
    "}\n",
    "\n",
    "def encoding2seq(arr):\n",
    "    seq = list()\n",
    "    for arr_row in list(arr):\n",
    "        if sum(arr_row)==0:\n",
    "            seq.append('.')\n",
    "        else:\n",
    "            seq.append(char_dict[np.argmax(arr_row)])\n",
    "    return ''.join(seq)"
   ]
  },
  {
   "cell_type": "code",
   "execution_count": 18,
   "metadata": {},
   "outputs": [],
   "source": [
    "seq = list(map(encoding2seq, data_x))"
   ]
  },
  {
   "cell_type": "code",
   "execution_count": 15,
   "metadata": {},
   "outputs": [
    {
     "data": {
      "text/plain": [
       "'UUUGGUGAUCAUAGCGCGAGCAAAACACCCGAUCCCAUCCCGAACUCGGCAGUUAAGUGCCGCAGCGCUGAUGGUACUGCGUCUUAAGGCGUGGGAGAGUAAGUCAUUGCCAAAC.....................................................................................................................................................................................................................................................................................................................................................................................................................................................................................................'"
      ]
     },
     "execution_count": 15,
     "metadata": {},
     "output_type": "execute_result"
    }
   ],
   "source": [
    "seq[1]"
   ]
  },
  {
   "cell_type": "code",
   "execution_count": 19,
   "metadata": {},
   "outputs": [
    {
     "name": "stdout",
     "output_type": "stream",
     "text": [
      "(20862, 600, 4) (20862, 600, 3)\n"
     ]
    }
   ],
   "source": [
    "print(data_x.shape, data_y.shape)\n",
    "# (N, L, Nucleotide)\n",
    "# N: number of sequences in dataset\n",
    "# L: max sequence length\n",
    "# Nucleotide: dimension for the nucleotide mapping "
   ]
  },
  {
   "cell_type": "code",
   "execution_count": 20,
   "metadata": {},
   "outputs": [],
   "source": [
    "seqKey = list(map(encoding2seq, data_y))"
   ]
  },
  {
   "cell_type": "code",
   "execution_count": 21,
   "metadata": {},
   "outputs": [
    {
     "data": {
      "text/plain": [
       "'UUUUUUUAAUUUUAAAAAAAAACCCCAUUUUUAAAAAAACCCCCAAAAAUUUUUAAAAAAACCCCCCCCCCCCA..............................................................................................................................................................................................................................................................................................................................................................................................................................................................................................................................................'"
      ]
     },
     "execution_count": 21,
     "metadata": {},
     "output_type": "execute_result"
    }
   ],
   "source": [
    "seqKey[0]"
   ]
  },
  {
   "cell_type": "code",
   "execution_count": 22,
   "metadata": {},
   "outputs": [
    {
     "data": {
      "text/plain": [
       "'GCGGUUAUAGCUCAGUUGGUUAGAGCGCGACACUGAUAAUGUCGAGGUCCCAAGUUCAAGUCUUGGUAACCGCA..............................................................................................................................................................................................................................................................................................................................................................................................................................................................................................................................................'"
      ]
     },
     "execution_count": 22,
     "metadata": {},
     "output_type": "execute_result"
    }
   ],
   "source": [
    "seq[0]"
   ]
  },
  {
   "cell_type": "code",
   "execution_count": 29,
   "metadata": {},
   "outputs": [
    {
     "name": "stderr",
     "output_type": "stream",
     "text": [
      "<ipython-input-29-7618f02509a2>:1: VisibleDeprecationWarning: Creating an ndarray from ragged nested sequences (which is a list-or-tuple of lists-or-tuples-or ndarrays with different lengths or shapes) is deprecated. If you meant to do this, you must specify 'dtype=object' when creating the ndarray\n",
      "  instanceKey2data = [np.array([instance[i] for instance in data]) for i in range(5)]\n"
     ]
    }
   ],
   "source": [
    "# Let's see whats in the data array for each data source\n",
    "instanceKey2data = [np.array([instance[i] for instance in data]) for i in range(5)]"
   ]
  },
  {
   "cell_type": "code",
   "execution_count": 32,
   "metadata": {},
   "outputs": [
    {
     "name": "stdout",
     "output_type": "stream",
     "text": [
      "(20862, 600, 4)\n",
      "(20862, 600, 3)\n",
      "(20862,)\n",
      "(20862,)\n",
      "(20862,)\n"
     ]
    }
   ],
   "source": [
    "for i in range(5): \n",
    "    print(instanceKey2data[i].shape)"
   ]
  },
  {
   "cell_type": "code",
   "execution_count": 52,
   "metadata": {},
   "outputs": [],
   "source": [
    "####### I think I got it: following cells have info about data obj"
   ]
  },
  {
   "cell_type": "code",
   "execution_count": 56,
   "metadata": {},
   "outputs": [
    {
     "data": {
      "text/plain": [
       "74"
      ]
     },
     "execution_count": 56,
     "metadata": {},
     "output_type": "execute_result"
    }
   ],
   "source": [
    "# Define the keys for the data object\n",
    "X = 0\n",
    "Y = 1\n",
    "SEQ_LENGTH = 2\n",
    "SOURCE = 3\n",
    "CONTACT_MAP = 4\n",
    "\n",
    "instanceKey2data[2][0]"
   ]
  },
  {
   "cell_type": "code",
   "execution_count": 51,
   "metadata": {},
   "outputs": [
    {
     "name": "stdout",
     "output_type": "stream",
     "text": [
      "74 42 74\n",
      "115 66 115\n",
      "73 40 73\n",
      "74 40 74\n",
      "121 64 121\n",
      "115 64 115\n",
      "121 70 121\n",
      "121 64 121\n",
      "114 56 114\n",
      "408 174 406\n"
     ]
    }
   ],
   "source": [
    "for i in range(10):\n",
    "    print(instanceKey2data[2][i], len(instanceKey2data[4][i]), len(seq[i]) - seq[i].count('.'))"
   ]
  },
  {
   "cell_type": "code",
   "execution_count": 57,
   "metadata": {},
   "outputs": [
    {
     "name": "stderr",
     "output_type": "stream",
     "text": [
      "<ipython-input-57-9a2dfc36f514>:17: VisibleDeprecationWarning: Creating an ndarray from ragged nested sequences (which is a list-or-tuple of lists-or-tuples-or ndarrays with different lengths or shapes) is deprecated. If you meant to do this, you must specify 'dtype=object' when creating the ndarray\n",
      "  contact_map = np.array([instance[CONTACT_MAP] for instance in train_data])\n"
     ]
    }
   ],
   "source": [
    "\"\"\"\n",
    "Separate data into different semantic objects\n",
    "\"\"\"\n",
    "# load training data\n",
    "with open(train_path, \"rb\") as file:\n",
    "    train_data = pickle.load(file)\n",
    "\n",
    "# Actual sequences:\n",
    "data_x = np.array([instance[X] for instance in train_data])\n",
    "\n",
    "# sequence lengths:\n",
    "seq_lengths = np.array([instance[SEQ_LENGTH] for instance in train_data])\n",
    "\n",
    "# source of the sequence:\n",
    "source = np.array([instance[SEQ_LENGTH] for instance in train_data])\n",
    "\n",
    "# contact map pairs for each sequence:\n",
    "contact_map = np.array([instance[CONTACT_MAP] for instance in train_data])"
   ]
  },
  {
   "cell_type": "code",
   "execution_count": 59,
   "metadata": {},
   "outputs": [],
   "source": [
    "def build_A_from_pairs(mapping: list, max_length: int = 600):\n",
    "    \"\"\"\n",
    "    Creates the contact map matrix A from a list of pairs of contacts\n",
    "    \n",
    "    Args:\n",
    "        - mapping (list): list of pairs of indices (a, b)\n",
    "        - max_length (int): maximum sequence length in the dataset\n",
    "    \"\"\"  \n",
    "    A = np.zeros((max_length, max_length))\n",
    "    for pair in mapping:\n",
    "        a, b = pair\n",
    "        A[a, b] = 1\n",
    "        A[b, a] = 1\n",
    "    \n",
    "    return A"
   ]
  },
  {
   "cell_type": "code",
   "execution_count": 71,
   "metadata": {},
   "outputs": [
    {
     "data": {
      "image/png": "[encoded data removed]",
      "text/plain": [
       "<Figure size 432x288 with 1 Axes>"
      ]
     },
     "metadata": {
      "needs_background": "light"
     },
     "output_type": "display_data"
    }
   ],
   "source": [
    "import matplotlib.pyplot as plt \n",
    "import cv2\n",
    "plt.imshow(build_A_from_pairs(contact_map[0], 74)*255)\n",
    "plt.show()"
   ]
  },
  {
   "cell_type": "code",
   "execution_count": 73,
   "metadata": {},
   "outputs": [
    {
     "data": {
      "text/plain": [
       "array([[0, 0, 0, 1],\n",
       "       [0, 0, 1, 0],\n",
       "       [0, 0, 0, 1],\n",
       "       ...,\n",
       "       [0, 0, 0, 0],\n",
       "       [0, 0, 0, 0],\n",
       "       [0, 0, 0, 0]])"
      ]
     },
     "execution_count": 73,
     "metadata": {},
     "output_type": "execute_result"
    }
   ],
   "source": [
    "data_x[0]"
   ]
  },
  {
   "cell_type": "code",
   "execution_count": 98,
   "metadata": {},
   "outputs": [
    {
     "name": "stdout",
     "output_type": "stream",
     "text": [
      "[[0 1 0 0]\n",
      " [0 0 1 0]\n",
      " [0 0 1 0]\n",
      " ...\n",
      " [0 0 0 0]\n",
      " [0 0 0 0]\n",
      " [0 0 0 0]]\n",
      "various rnas?\n"
     ]
    }
   ],
   "source": [
    "for t, x in enumerate(data_x):\n",
    "    flag = False\n",
    "    for i in x:\n",
    "        if sum(i) == 0 and not flag:\n",
    "            flag = True\n",
    "        elif sum(i) > 0 and flag:\n",
    "            print(x)\n",
    "            print(\"various rnas?\")\n",
    "            break\n",
    "    if t == 9:\n",
    "        break"
   ]
  },
  {
   "cell_type": "code",
   "execution_count": 94,
   "metadata": {},
   "outputs": [
    {
     "data": {
      "text/plain": [
       "'UCCCCUUCGGGGGACAGAGUGACAGGUGGUGCAUGGUUGUCGUCAGCUCGUGUCGUGAGAUGUUGGGUUAAGUCCCGCAACGAGCGCAACCCUUGAUCUUAGUUGCCAGCAUUUAGUUGGGCACUCUAAGGUGACUGCCGGUGACAAACCGGAGGAAGGUGGGGAUGACGUCAAAUCAUCAUGCCCCUUAUGACCUGGGCUACACACGUGCUACAAUGGAUGGUACAAAGGGCUGCAAGACCGCGAGGUCAAGCCAAUCCCAUAAAACCAUUCUCAGUUCGGAUUGUA.GCUGCAACUCGCCUACAUGAAGCUGGAAUCGCUAGUAAUCGCGGAUCAGCAUGCCGCGGUGAAUACGUUCCCGGGCCUUGUACACACCGCCCGUCACACCAC.AGAGUUUGUAACACCC................................................................................................................................................................................................'"
      ]
     },
     "execution_count": 94,
     "metadata": {},
     "output_type": "execute_result"
    }
   ],
   "source": [
    "seq[9]"
   ]
  },
  {
   "cell_type": "code",
   "execution_count": null,
   "metadata": {},
   "outputs": [],
   "source": []
  }
 ],
 "metadata": {
  "kernelspec": {
   "display_name": "Python 3",
   "language": "python",
   "name": "python3"
  },
  "language_info": {
   "codemirror_mode": {
    "name": "ipython",
    "version": 3
   },
   "file_extension": ".py",
   "mimetype": "text/x-python",
   "name": "python",
   "nbconvert_exporter": "python",
   "pygments_lexer": "ipython3",
   "version": "3.8.5"
  }
 },
 "nbformat": 4,
 "nbformat_minor": 4
}
